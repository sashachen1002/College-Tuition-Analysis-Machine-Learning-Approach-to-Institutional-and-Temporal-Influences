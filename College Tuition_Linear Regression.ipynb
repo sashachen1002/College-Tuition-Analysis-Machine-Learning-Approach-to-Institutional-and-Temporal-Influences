{
 "cells": [
  {
   "cell_type": "code",
   "execution_count": 1,
   "metadata": {},
   "outputs": [],
   "source": [
    "# Load the numpy, pandas, matplotlib, and os libraries\n",
    "import numpy as np\n",
    "import pandas as pd\n",
    "import matplotlib.pyplot as plt\n",
    "import os\n",
    "from sklearn.linear_model import LinearRegression # linear regression\n",
    "import statsmodels.formula.api as smf # regression modeling"
   ]
  },
  {
   "cell_type": "code",
   "execution_count": 2,
   "metadata": {},
   "outputs": [],
   "source": [
    "# Set the working directory to your project folder.\n",
    "os.chdir('C:/Users/ual-laptop/Desktop/Mac/Fall semester/MIS 545/Group Project/V2')"
   ]
  },
  {
   "cell_type": "code",
   "execution_count": 3,
   "metadata": {},
   "outputs": [],
   "source": [
    "# Read CollegeTuition.csv into a data frame called collegeTuition.\n",
    "collegeTuition = pd.read_csv('CollegeTuition.csv')\n"
   ]
  },
  {
   "cell_type": "code",
   "execution_count": 4,
   "metadata": {},
   "outputs": [
    {
     "name": "stdout",
     "output_type": "stream",
     "text": [
      "Index(['Institution_Type', 'Year', 'School_Type', 'Total_Inflation_Adjusted',\n",
      "       'Tuition_Fees_Inflation_Adjusted', 'Room_Inflation_Adjusted',\n",
      "       'Board_Inflation_Adjusted', 'Total', 'Tuition_Fees', 'Room', 'Board'],\n",
      "      dtype='object')\n"
     ]
    }
   ],
   "source": [
    "collegeTuition = collegeTuition.rename(columns={\n",
    "    'Institution Type': 'Institution_Type',\n",
    "    'School Type': 'School_Type',\n",
    "    'Total (Inflation Adjusted)': 'Total_Inflation_Adjusted',\n",
    "    'Tuition & Fees (Inflation Adjusted)': 'Tuition_Fees_Inflation_Adjusted',\n",
    "    'Room (Inflation Adjusted)': 'Room_Inflation_Adjusted',\n",
    "    'Board (Inflation Adjusted)': 'Board_Inflation_Adjusted',\n",
    "    'Tuition & Fees' : 'Tuition_Fees',\n",
    "})\n",
    "\n",
    "# Verify the changes by printing the updated column names\n",
    "print(collegeTuition.columns)\n"
   ]
  },
  {
   "cell_type": "code",
   "execution_count": 5,
   "metadata": {},
   "outputs": [
    {
     "name": "stdout",
     "output_type": "stream",
     "text": [
      "object\n"
     ]
    }
   ],
   "source": [
    "# Check the data type of the 'Year' column\n",
    "print(collegeTuition['Year'].dtype)\n",
    "\n",
    "# If 'Year' is not a string type, convert it to string first\n",
    "collegeTuition['Year'] = collegeTuition['Year'].astype(str)\n",
    "\n",
    "# Then split by hyphen and convert to integer\n",
    "collegeTuition['Year'] = collegeTuition['Year'].str.split('-').str[0].astype(int)\n",
    "# This code first converts the 'Year' column to a string type, then splits it at the hyphen, and takes the first part of the split"
   ]
  },
  {
   "cell_type": "code",
   "execution_count": 7,
   "metadata": {},
   "outputs": [
    {
     "name": "stdout",
     "output_type": "stream",
     "text": [
      "   Institution_Type  Year                      School_Type  \\\n",
      "0  All Institutions  1966  All (4 and 2 Year Institutions)   \n",
      "1  All Institutions  1967  All (4 and 2 Year Institutions)   \n",
      "2  All Institutions  1968  All (4 and 2 Year Institutions)   \n",
      "3  All Institutions  1969  All (4 and 2 Year Institutions)   \n",
      "4  All Institutions  1970  All (4 and 2 Year Institutions)   \n",
      "\n",
      "   Total_Inflation_Adjusted  Tuition_Fees_Inflation_Adjusted  \\\n",
      "0              10387.488583                      4326.573312   \n",
      "1              10324.923309                      4286.652333   \n",
      "2              10147.168479                      4148.525498   \n",
      "3              10247.153284                      4237.619973   \n",
      "4              10322.808184                      4297.450799   \n",
      "\n",
      "   Room_Inflation_Adjusted  Board_Inflation_Adjusted        Total  \\\n",
      "0              2476.106063               3584.809208  1378.029556   \n",
      "1              2495.184685               3543.086290  1415.127765   \n",
      "2              2506.262771               3492.380210  1458.609973   \n",
      "3              2556.655018               3452.878293  1560.038913   \n",
      "4              2615.996029               3409.361356  1652.682730   \n",
      "\n",
      "   Tuition_Fees        Room       Board  \n",
      "0    573.973762  328.486266  475.569528  \n",
      "1    587.525985  341.988509  485.613271  \n",
      "2    596.331940  360.264036  502.013997  \n",
      "3    645.140350  389.228228  525.670335  \n",
      "4    688.022348  418.821253  545.839130  \n"
     ]
    }
   ],
   "source": [
    "#print the first 5 rows of the data frame\n",
    "print(collegeTuition.head())"
   ]
  },
  {
   "cell_type": "code",
   "execution_count": 6,
   "metadata": {},
   "outputs": [],
   "source": [
    "# One-Hot Encode the 'Institution Type'\n",
    "# Use pandas get_dummies method for one-hot encoding\n",
    "institution_type_dummies = pd.get_dummies(collegeTuition['Institution_Type'])\n",
    "\n",
    "# Explanation\n",
    "# pd.get_dummies(collegeTuition['Institution_Type']): Performs one-hot encoding on 'Institution_Type'\n",
    "# institution_type_dummies: Stores the result of one-hot encoding into institution_type_dummies variable"
   ]
  },
  {
   "cell_type": "code",
   "execution_count": 7,
   "metadata": {},
   "outputs": [],
   "source": [
    "# Merge the original data with the one-hot encoded data\n",
    "collegeTuition_processed = pd.concat([collegeTuition, institution_type_dummies], axis=1)"
   ]
  },
  {
   "cell_type": "code",
   "execution_count": 8,
   "metadata": {},
   "outputs": [
    {
     "name": "stdout",
     "output_type": "stream",
     "text": [
      "Index(['Institution_Type', 'Year', 'School_Type', 'Total_Inflation_Adjusted',\n",
      "       'Tuition_Fees_Inflation_Adjusted', 'Room_Inflation_Adjusted',\n",
      "       'Board_Inflation_Adjusted', 'Total', 'Tuition_Fees', 'Room', 'Board',\n",
      "       'All_Institutions', 'Private_Institutions', 'Public_Institutions'],\n",
      "      dtype='object')\n"
     ]
    }
   ],
   "source": [
    "# Correctly rename the columns by replacing spaces with underscores\n",
    "collegeTuition_processed.columns = collegeTuition_processed.columns.str.replace(' ', '_')\n",
    "\n",
    "# Confirm the changes\n",
    "print(collegeTuition_processed.columns)"
   ]
  },
  {
   "cell_type": "code",
   "execution_count": 9,
   "metadata": {},
   "outputs": [],
   "source": [
    "# Generate the linear regression model and save it in an object called collegeTuitionModel.\n",
    "\n",
    "import statsmodels.formula.api as smf\n",
    "\n",
    "# Generate the linear regression model for Hypothesis 1\n",
    "collegeTuitionModel = smf.ols(\n",
    "    formula='Tuition_Fees_Inflation_Adjusted ~ Year + Private_Institutions + Public_Institutions', \n",
    "    data=collegeTuition_processed\n",
    ").fit()\n",
    "\n",
    "# Here, I've replaced 'Tuition & Fees (Inflation Adjusted)' with 'Tuition_and_Fees_Inflation_Adjusted'\n",
    "# because it seems that the column names have had their spaces removed. \n",
    "# Make sure to replace this with the exact column name from your DataFrame.\n"
   ]
  },
  {
   "cell_type": "code",
   "execution_count": 10,
   "metadata": {},
   "outputs": [
    {
     "data": {
      "text/plain": [
       "Intercept                      -402618.039283\n",
       "Private_Institutions[T.True]      9343.003430\n",
       "Public_Institutions[T.True]      -2738.540092\n",
       "Year                               205.222719\n",
       "dtype: float64"
      ]
     },
     "execution_count": 10,
     "metadata": {},
     "output_type": "execute_result"
    }
   ],
   "source": [
    "# Display the beta coefficients for the model.\n",
    "collegeTuitionModel.params"
   ]
  },
  {
   "cell_type": "code",
   "execution_count": 13,
   "metadata": {},
   "outputs": [
    {
     "data": {
      "text/html": [
       "<table class=\"simpletable\">\n",
       "<caption>OLS Regression Results</caption>\n",
       "<tr>\n",
       "  <th>Dep. Variable:</th>    <td>Tuition_Fees_Inflation_Adjusted</td> <th>  R-squared:         </th> <td>   0.756</td> \n",
       "</tr>\n",
       "<tr>\n",
       "  <th>Model:</th>                          <td>OLS</td>               <th>  Adj. R-squared:    </th> <td>   0.755</td> \n",
       "</tr>\n",
       "<tr>\n",
       "  <th>Method:</th>                    <td>Least Squares</td>          <th>  F-statistic:       </th> <td>   480.2</td> \n",
       "</tr>\n",
       "<tr>\n",
       "  <th>Date:</th>                    <td>Wed, 22 Nov 2023</td>         <th>  Prob (F-statistic):</th> <td>7.85e-142</td>\n",
       "</tr>\n",
       "<tr>\n",
       "  <th>Time:</th>                        <td>11:08:48</td>             <th>  Log-Likelihood:    </th> <td> -4471.9</td> \n",
       "</tr>\n",
       "<tr>\n",
       "  <th>No. Observations:</th>             <td>   468</td>              <th>  AIC:               </th> <td>   8952.</td> \n",
       "</tr>\n",
       "<tr>\n",
       "  <th>Df Residuals:</th>                 <td>   464</td>              <th>  BIC:               </th> <td>   8968.</td> \n",
       "</tr>\n",
       "<tr>\n",
       "  <th>Df Model:</th>                     <td>     3</td>              <th>                     </th>     <td> </td>    \n",
       "</tr>\n",
       "<tr>\n",
       "  <th>Covariance Type:</th>             <td>nonrobust</td>            <th>                     </th>     <td> </td>    \n",
       "</tr>\n",
       "</table>\n",
       "<table class=\"simpletable\">\n",
       "<tr>\n",
       "                <td></td>                  <th>coef</th>     <th>std err</th>      <th>t</th>      <th>P>|t|</th>  <th>[0.025</th>    <th>0.975]</th>  \n",
       "</tr>\n",
       "<tr>\n",
       "  <th>Intercept</th>                    <td>-4.026e+05</td> <td>  2.1e+04</td> <td>  -19.129</td> <td> 0.000</td> <td>-4.44e+05</td> <td>-3.61e+05</td>\n",
       "</tr>\n",
       "<tr>\n",
       "  <th>Private_Institutions[T.True]</th> <td> 9343.0034</td> <td>  388.495</td> <td>   24.049</td> <td> 0.000</td> <td> 8579.575</td> <td> 1.01e+04</td>\n",
       "</tr>\n",
       "<tr>\n",
       "  <th>Public_Institutions[T.True]</th>  <td>-2738.5401</td> <td>  388.495</td> <td>   -7.049</td> <td> 0.000</td> <td>-3501.968</td> <td>-1975.112</td>\n",
       "</tr>\n",
       "<tr>\n",
       "  <th>Year</th>                         <td>  205.2227</td> <td>   10.568</td> <td>   19.420</td> <td> 0.000</td> <td>  184.456</td> <td>  225.989</td>\n",
       "</tr>\n",
       "</table>\n",
       "<table class=\"simpletable\">\n",
       "<tr>\n",
       "  <th>Omnibus:</th>       <td> 1.268</td> <th>  Durbin-Watson:     </th> <td>   0.052</td>\n",
       "</tr>\n",
       "<tr>\n",
       "  <th>Prob(Omnibus):</th> <td> 0.531</td> <th>  Jarque-Bera (JB):  </th> <td>   1.324</td>\n",
       "</tr>\n",
       "<tr>\n",
       "  <th>Skew:</th>          <td> 0.078</td> <th>  Prob(JB):          </th> <td>   0.516</td>\n",
       "</tr>\n",
       "<tr>\n",
       "  <th>Kurtosis:</th>      <td> 2.791</td> <th>  Cond. No.          </th> <td>2.64e+05</td>\n",
       "</tr>\n",
       "</table><br/><br/>Notes:<br/>[1] Standard Errors assume that the covariance matrix of the errors is correctly specified.<br/>[2] The condition number is large, 2.64e+05. This might indicate that there are<br/>strong multicollinearity or other numerical problems."
      ],
      "text/latex": [
       "\\begin{center}\n",
       "\\begin{tabular}{lclc}\n",
       "\\toprule\n",
       "\\textbf{Dep. Variable:}                & Tuition\\_Fees\\_Inflation\\_Adjusted & \\textbf{  R-squared:         } &     0.756   \\\\\n",
       "\\textbf{Model:}                        &                OLS                 & \\textbf{  Adj. R-squared:    } &     0.755   \\\\\n",
       "\\textbf{Method:}                       &           Least Squares            & \\textbf{  F-statistic:       } &     480.2   \\\\\n",
       "\\textbf{Date:}                         &          Wed, 22 Nov 2023          & \\textbf{  Prob (F-statistic):} & 7.85e-142   \\\\\n",
       "\\textbf{Time:}                         &              11:08:48              & \\textbf{  Log-Likelihood:    } &   -4471.9   \\\\\n",
       "\\textbf{No. Observations:}             &                  468               & \\textbf{  AIC:               } &     8952.   \\\\\n",
       "\\textbf{Df Residuals:}                 &                  464               & \\textbf{  BIC:               } &     8968.   \\\\\n",
       "\\textbf{Df Model:}                     &                    3               & \\textbf{                     } &             \\\\\n",
       "\\textbf{Covariance Type:}              &             nonrobust              & \\textbf{                     } &             \\\\\n",
       "\\bottomrule\n",
       "\\end{tabular}\n",
       "\\begin{tabular}{lcccccc}\n",
       "                                       & \\textbf{coef} & \\textbf{std err} & \\textbf{t} & \\textbf{P$> |$t$|$} & \\textbf{[0.025} & \\textbf{0.975]}  \\\\\n",
       "\\midrule\n",
       "\\textbf{Intercept}                     &   -4.026e+05  &      2.1e+04     &   -19.129  &         0.000        &    -4.44e+05    &    -3.61e+05     \\\\\n",
       "\\textbf{Private\\_Institutions[T.True]} &    9343.0034  &      388.495     &    24.049  &         0.000        &     8579.575    &     1.01e+04     \\\\\n",
       "\\textbf{Public\\_Institutions[T.True]}  &   -2738.5401  &      388.495     &    -7.049  &         0.000        &    -3501.968    &    -1975.112     \\\\\n",
       "\\textbf{Year}                          &     205.2227  &       10.568     &    19.420  &         0.000        &      184.456    &      225.989     \\\\\n",
       "\\bottomrule\n",
       "\\end{tabular}\n",
       "\\begin{tabular}{lclc}\n",
       "\\textbf{Omnibus:}       &  1.268 & \\textbf{  Durbin-Watson:     } &    0.052  \\\\\n",
       "\\textbf{Prob(Omnibus):} &  0.531 & \\textbf{  Jarque-Bera (JB):  } &    1.324  \\\\\n",
       "\\textbf{Skew:}          &  0.078 & \\textbf{  Prob(JB):          } &    0.516  \\\\\n",
       "\\textbf{Kurtosis:}      &  2.791 & \\textbf{  Cond. No.          } & 2.64e+05  \\\\\n",
       "\\bottomrule\n",
       "\\end{tabular}\n",
       "%\\caption{OLS Regression Results}\n",
       "\\end{center}\n",
       "\n",
       "Notes: \\newline\n",
       " [1] Standard Errors assume that the covariance matrix of the errors is correctly specified. \\newline\n",
       " [2] The condition number is large, 2.64e+05. This might indicate that there are \\newline\n",
       " strong multicollinearity or other numerical problems."
      ],
      "text/plain": [
       "<class 'statsmodels.iolib.summary.Summary'>\n",
       "\"\"\"\n",
       "                                   OLS Regression Results                                  \n",
       "===========================================================================================\n",
       "Dep. Variable:     Tuition_Fees_Inflation_Adjusted   R-squared:                       0.756\n",
       "Model:                                         OLS   Adj. R-squared:                  0.755\n",
       "Method:                              Least Squares   F-statistic:                     480.2\n",
       "Date:                             Wed, 22 Nov 2023   Prob (F-statistic):          7.85e-142\n",
       "Time:                                     11:08:48   Log-Likelihood:                -4471.9\n",
       "No. Observations:                              468   AIC:                             8952.\n",
       "Df Residuals:                                  464   BIC:                             8968.\n",
       "Df Model:                                        3                                         \n",
       "Covariance Type:                         nonrobust                                         \n",
       "================================================================================================\n",
       "                                   coef    std err          t      P>|t|      [0.025      0.975]\n",
       "------------------------------------------------------------------------------------------------\n",
       "Intercept                    -4.026e+05    2.1e+04    -19.129      0.000   -4.44e+05   -3.61e+05\n",
       "Private_Institutions[T.True]  9343.0034    388.495     24.049      0.000    8579.575    1.01e+04\n",
       "Public_Institutions[T.True]  -2738.5401    388.495     -7.049      0.000   -3501.968   -1975.112\n",
       "Year                           205.2227     10.568     19.420      0.000     184.456     225.989\n",
       "==============================================================================\n",
       "Omnibus:                        1.268   Durbin-Watson:                   0.052\n",
       "Prob(Omnibus):                  0.531   Jarque-Bera (JB):                1.324\n",
       "Skew:                           0.078   Prob(JB):                        0.516\n",
       "Kurtosis:                       2.791   Cond. No.                     2.64e+05\n",
       "==============================================================================\n",
       "\n",
       "Notes:\n",
       "[1] Standard Errors assume that the covariance matrix of the errors is correctly specified.\n",
       "[2] The condition number is large, 2.64e+05. This might indicate that there are\n",
       "strong multicollinearity or other numerical problems.\n",
       "\"\"\""
      ]
     },
     "execution_count": 13,
     "metadata": {},
     "output_type": "execute_result"
    }
   ],
   "source": [
    "# Display the linear regression model results summary. (I used statsmodels’ .ols(), .fit(), and .summary(), but there are other ways to do it too.)\n",
    "collegeTuitionModel.summary()\n"
   ]
  },
  {
   "cell_type": "code",
   "execution_count": 11,
   "metadata": {},
   "outputs": [
    {
     "data": {
      "text/plain": [
       "[17610.42397336939, 1.3333333333333337, 1.3333333333333335, 1.0]"
      ]
     },
     "execution_count": 11,
     "metadata": {},
     "output_type": "execute_result"
    }
   ],
   "source": [
    "# Test for multicollinearity using the variance inflation factor (VIF) and display the results.\n",
    "from statsmodels.stats.outliers_influence import variance_inflation_factor\n",
    "variables = collegeTuitionModel.model.exog\n",
    "vif = [variance_inflation_factor(variables, i) for i in range(variables.shape[1])]\n",
    "vif"
   ]
  }
 ],
 "metadata": {
  "kernelspec": {
   "display_name": "Python 3",
   "language": "python",
   "name": "python3"
  },
  "language_info": {
   "codemirror_mode": {
    "name": "ipython",
    "version": 3
   },
   "file_extension": ".py",
   "mimetype": "text/x-python",
   "name": "python",
   "nbconvert_exporter": "python",
   "pygments_lexer": "ipython3",
   "version": "3.12.0"
  }
 },
 "nbformat": 4,
 "nbformat_minor": 2
}
